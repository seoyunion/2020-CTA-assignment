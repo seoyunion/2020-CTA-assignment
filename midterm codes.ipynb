{
 "cells": [
  {
   "cell_type": "markdown",
   "metadata": {},
   "source": [
    "# 1. 파이썬 실행환경"
   ]
  },
  {
   "cell_type": "code",
   "execution_count": null,
   "metadata": {},
   "outputs": [],
   "source": []
  },
  {
   "cell_type": "markdown",
   "metadata": {},
   "source": [
    "# 2. 변수"
   ]
  },
  {
   "cell_type": "markdown",
   "metadata": {},
   "source": [
    "### print() 서식 지정\n",
    "#### %d %x %o %f %c %s"
   ]
  },
  {
   "cell_type": "code",
   "execution_count": 56,
   "metadata": {},
   "outputs": [
    {
     "name": "stdout",
     "output_type": "stream",
     "text": [
      "100 / 200 = 0.500000\n"
     ]
    }
   ],
   "source": [
    "print(\"%d / %d = %f\" % (100,200,0.5))"
   ]
  },
  {
   "cell_type": "code",
   "execution_count": 58,
   "metadata": {},
   "outputs": [
    {
     "name": "stdout",
     "output_type": "stream",
     "text": [
      "123\n",
      "  123\n",
      "00123\n",
      "123.450000\n",
      "  123.5\n",
      "123.450\n",
      "Python\n",
      "    Python\n"
     ]
    }
   ],
   "source": [
    "print(\"%d\"%123)\n",
    "print(\"%5d\"%123)\n",
    "print(\"%05d\"%123)\n",
    "print(\"%f\"%123.45)\n",
    "print(\"%7.1f\"%123.45)\n",
    "print(\"%7.3f\"%123.45)\n",
    "print(\"%s\"%\"Python\")\n",
    "print(\"%10s\"%\"Python\")"
   ]
  },
  {
   "cell_type": "code",
   "execution_count": 63,
   "metadata": {},
   "outputs": [
    {
     "name": "stdout",
     "output_type": "stream",
     "text": [
      "123   123 00123\n",
      "123   123 00123\n"
     ]
    }
   ],
   "source": [
    "#format()\n",
    "print(\"%d %5d %05d\"%(123,123,123))\n",
    "print(\"{0:d} {1:5d} {2:05d}\".format(123,123,123))"
   ]
  },
  {
   "cell_type": "markdown",
   "metadata": {},
   "source": [
    "### 이스케이프 문자"
   ]
  },
  {
   "cell_type": "code",
   "execution_count": 61,
   "metadata": {},
   "outputs": [
    {
     "name": "stdout",
     "output_type": "stream",
     "text": [
      "\n",
      "줄바꿈\n",
      "연습\n",
      "\t탭키\t연습\n",
      "\"\n",
      "'\n",
      "\\\n",
      "\\n \\t \\\" \\\\ 그대로 출력\n"
     ]
    }
   ],
   "source": [
    "print(\"\\n줄바꿈\\n연습\")\n",
    "print(\"\\t탭키\\t연습\")\n",
    "print(\"\\\"\")\n",
    "print(\"\\'\")\n",
    "print(\"\\\\\")\n",
    "print(r\"\\n \\t \\\" \\\\ 그대로 출력\")"
   ]
  },
  {
   "cell_type": "markdown",
   "metadata": {},
   "source": [
    "### 진수"
   ]
  },
  {
   "cell_type": "code",
   "execution_count": 10,
   "metadata": {},
   "outputs": [
    {
     "data": {
      "text/plain": [
       "147"
      ]
     },
     "execution_count": 10,
     "metadata": {},
     "output_type": "execute_result"
    }
   ],
   "source": [
    "0b10010011"
   ]
  },
  {
   "cell_type": "code",
   "execution_count": 11,
   "metadata": {},
   "outputs": [
    {
     "data": {
      "text/plain": [
       "147"
      ]
     },
     "execution_count": 11,
     "metadata": {},
     "output_type": "execute_result"
    }
   ],
   "source": [
    "int('10010011',2)"
   ]
  },
  {
   "cell_type": "code",
   "execution_count": 12,
   "metadata": {},
   "outputs": [
    {
     "data": {
      "text/plain": [
       "147"
      ]
     },
     "execution_count": 12,
     "metadata": {},
     "output_type": "execute_result"
    }
   ],
   "source": [
    "0x93; int('93', 16)"
   ]
  },
  {
   "cell_type": "code",
   "execution_count": 14,
   "metadata": {},
   "outputs": [
    {
     "data": {
      "text/plain": [
       "'0b1101'"
      ]
     },
     "execution_count": 14,
     "metadata": {},
     "output_type": "execute_result"
    }
   ],
   "source": [
    "bin(13)"
   ]
  },
  {
   "cell_type": "code",
   "execution_count": 16,
   "metadata": {},
   "outputs": [
    {
     "data": {
      "text/plain": [
       "'0b10011'"
      ]
     },
     "execution_count": 16,
     "metadata": {},
     "output_type": "execute_result"
    }
   ],
   "source": [
    "bin(0x13)"
   ]
  },
  {
   "cell_type": "code",
   "execution_count": 17,
   "metadata": {},
   "outputs": [
    {
     "data": {
      "text/plain": [
       "'0b1100010111110111'"
      ]
     },
     "execution_count": 17,
     "metadata": {},
     "output_type": "execute_result"
    }
   ],
   "source": [
    "bin(0xC5F7)"
   ]
  },
  {
   "cell_type": "code",
   "execution_count": 62,
   "metadata": {},
   "outputs": [
    {
     "name": "stdout",
     "output_type": "stream",
     "text": [
      "255 63 15\n"
     ]
    }
   ],
   "source": [
    "a=0xFF\n",
    "b=0o77\n",
    "c=0b1111\n",
    "print(a,b,c)"
   ]
  },
  {
   "cell_type": "markdown",
   "metadata": {},
   "source": [
    "### [데이터 형식 정리]"
   ]
  },
  {
   "cell_type": "markdown",
   "metadata": {},
   "source": [
    "### 실수 데이터 형식"
   ]
  },
  {
   "cell_type": "code",
   "execution_count": 80,
   "metadata": {},
   "outputs": [
    {
     "name": "stdout",
     "output_type": "stream",
     "text": [
      "3.14 314000.0\n"
     ]
    }
   ],
   "source": [
    "a=3.14\n",
    "b=3.14e5 #정규화\n",
    "print(a,b)"
   ]
  },
  {
   "cell_type": "code",
   "execution_count": 81,
   "metadata": {},
   "outputs": [
    {
     "name": "stdout",
     "output_type": "stream",
     "text": [
      "1323.450000\n"
     ]
    }
   ],
   "source": [
    "print(\"%f\"%1323.45)"
   ]
  },
  {
   "cell_type": "code",
   "execution_count": 82,
   "metadata": {},
   "outputs": [
    {
     "name": "stdout",
     "output_type": "stream",
     "text": [
      "  123.5\n"
     ]
    }
   ],
   "source": [
    "print(\"%7.1f\"%123.45)"
   ]
  },
  {
   "cell_type": "code",
   "execution_count": 83,
   "metadata": {},
   "outputs": [
    {
     "data": {
      "text/plain": [
       "134000.0"
      ]
     },
     "execution_count": 83,
     "metadata": {},
     "output_type": "execute_result"
    }
   ],
   "source": [
    "1.34e5"
   ]
  },
  {
   "cell_type": "markdown",
   "metadata": {},
   "source": [
    "### 불 데이터 형식"
   ]
  },
  {
   "cell_type": "code",
   "execution_count": 53,
   "metadata": {},
   "outputs": [
    {
     "name": "stdout",
     "output_type": "stream",
     "text": [
      "True False\n"
     ]
    }
   ],
   "source": [
    "a=(100==100)\n",
    "b=(10>100)\n",
    "print(a,b)"
   ]
  },
  {
   "cell_type": "markdown",
   "metadata": {},
   "source": [
    "### 문자열 데이터 형식"
   ]
  },
  {
   "cell_type": "code",
   "execution_count": 22,
   "metadata": {},
   "outputs": [
    {
     "name": "stdout",
     "output_type": "stream",
     "text": [
      "이건 큰따옴표\"모양. 이건 작은따옴표'모양.\n"
     ]
    }
   ],
   "source": [
    "a=\"이건 큰따옴표\\\"모양.\"\n",
    "b='이건 작은따옴표\\'모양.'\n",
    "print(a, b)"
   ]
  },
  {
   "cell_type": "code",
   "execution_count": 23,
   "metadata": {},
   "outputs": [
    {
     "name": "stdout",
     "output_type": "stream",
     "text": [
      "파이썬\n",
      "만세\n"
     ]
    }
   ],
   "source": [
    "a='파이썬\\n만세'\n",
    "print(a)"
   ]
  },
  {
   "cell_type": "code",
   "execution_count": 24,
   "metadata": {},
   "outputs": [
    {
     "name": "stdout",
     "output_type": "stream",
     "text": [
      "파이썬\n",
      "만세\n"
     ]
    }
   ],
   "source": [
    "a=\"\"\"파이썬\n",
    "만세\"\"\"\n",
    "a\n",
    "print(a)"
   ]
  },
  {
   "cell_type": "code",
   "execution_count": 25,
   "metadata": {},
   "outputs": [
    {
     "name": "stdout",
     "output_type": "stream",
     "text": [
      "파이썬\n",
      "만세\n"
     ]
    }
   ],
   "source": [
    "a=\"\"\"파이썬\n",
    "만세\"\"\"\n",
    "print(a)"
   ]
  },
  {
   "cell_type": "markdown",
   "metadata": {},
   "source": [
    "### 별표 출력 프로그램"
   ]
  },
  {
   "cell_type": "code",
   "execution_count": 55,
   "metadata": {},
   "outputs": [
    {
     "name": "stdout",
     "output_type": "stream",
     "text": [
      "*\n",
      "**\n",
      "***\n",
      "****\n",
      "*****\n",
      "******\n",
      "*******\n",
      "********\n",
      "*********\n"
     ]
    }
   ],
   "source": [
    "for y in range(1, 10):\n",
    "    for x in range(y):\n",
    "        print('*', end='') #end: 이어서 출력하는 것\n",
    "    print()"
   ]
  },
  {
   "cell_type": "markdown",
   "metadata": {},
   "source": [
    "### 계산기 프로그램"
   ]
  },
  {
   "cell_type": "code",
   "execution_count": 54,
   "metadata": {},
   "outputs": [
    {
     "name": "stdout",
     "output_type": "stream",
     "text": [
      "첫번째숫자입력하세요:10\n",
      "두번째숫자입력하세요:3\n",
      "10 + 3 = 13\n",
      "10 - 3 = 7\n",
      "10 * 3 = 30\n",
      "10 / 3 = 3.3333333333333335\n"
     ]
    }
   ],
   "source": [
    "###문제2\n",
    "a=int(input(\"첫번째숫자입력하세요:\"))\n",
    "b=int(input(\"두번째숫자입력하세요:\"))\n",
    "\n",
    "print(a,'+',b,'=',a+b)\n",
    "print(a,'-',b,'=',a-b)\n",
    "print(a,'*',b,'=',a*b)\n",
    "print(a,'/',b,'=',a/b)"
   ]
  },
  {
   "cell_type": "markdown",
   "metadata": {},
   "source": [
    "### 거스름돈 문제"
   ]
  },
  {
   "cell_type": "code",
   "execution_count": 4,
   "metadata": {},
   "outputs": [
    {
     "name": "stdout",
     "output_type": "stream",
     "text": [
      "교환할 돈은 얼마 ? 3500\n",
      "\n",
      " 오백원짜리 ==> 7 개 \n",
      " 백원짜리   ==> 0 개 \n",
      " 오십원짜리 ==> 0 개 \n",
      " 십원짜리   ==> 0 개 \n",
      " 바꾸지 못한 잔돈 ==> 0 원 \n",
      "\n"
     ]
    }
   ],
   "source": [
    "## 변수 선언 부분\n",
    "# money, c500, c100, c50, c10 = 0,0,0,0,0\n",
    "\n",
    "## 메인(main) 코드 부분\n",
    "money=int(input(\"교환할 돈은 얼마 ? \"))\n",
    "c500 = money // 500\n",
    "money %= 500\n",
    "\n",
    "c100 = money // 100\n",
    "money %= 100\n",
    "\n",
    "c50 = money // 50\n",
    "money %=  50\n",
    "\n",
    "c10 = money // 10\n",
    "money %=  10\n",
    "\n",
    "print(\"\\n 오백원짜리 ==> %d 개 \" % c500)\n",
    "print(\" 백원짜리   ==> %d 개 \"% c100)\n",
    "print(\" 오십원짜리 ==> %d 개 \"% c50)\n",
    "print(\" 십원짜리   ==> %d 개 \"% c10)\n",
    "print(\" 바꾸지 못한 잔돈 ==> %d 원 \\n\"% money)"
   ]
  },
  {
   "cell_type": "markdown",
   "metadata": {},
   "source": [
    "### 진수 변환 프로그램"
   ]
  },
  {
   "cell_type": "code",
   "execution_count": 5,
   "metadata": {},
   "outputs": [
    {
     "name": "stdout",
     "output_type": "stream",
     "text": [
      "입력진수 결정(16/10/8/2) : 16\n",
      "값 입력 : 2345\n",
      "16진수 ==>  0x2345\n",
      "10진수 ==>  9029\n",
      " 8진수 ==>  0o21505\n",
      " 2진수 ==>  0b10001101000101\n"
     ]
    }
   ],
   "source": [
    "sel=int(input(\"입력진수 결정(16/10/8/2) : \"))\n",
    "num=input(\"값 입력 : \")\n",
    "\n",
    "if sel==16 :\n",
    "    num10=int(num, 16)\n",
    "if sel==10 :\n",
    "    num10=int(num, 10)\n",
    "if sel==8 :\n",
    "    num10=int(num, 8)\n",
    "if sel==2 :\n",
    "    num10=int(num, 2)\n",
    "    \n",
    "print(\"16진수 ==> \",hex(num10))\n",
    "print(\"10진수 ==> \",num10)\n",
    "print(\" 8진수 ==> \",oct(num10))\n",
    "print(\" 2진수 ==> \",bin(num10))"
   ]
  },
  {
   "cell_type": "markdown",
   "metadata": {},
   "source": [
    "### 진법 테스트 결과 출력"
   ]
  },
  {
   "cell_type": "code",
   "execution_count": 85,
   "metadata": {},
   "outputs": [
    {
     "name": "stdout",
     "output_type": "stream",
     "text": [
      "입력진수를 결정하세요(16,10,8,2)):10\n",
      "값을 입력하세요:123\n",
      "16진수: 0x7b\n",
      "10진수: 123\n",
      "8진수: 0o173\n",
      "2진수: 0b1111011\n"
     ]
    }
   ],
   "source": [
    "select=int(input(\"입력진수를 결정하세요(16,10,8,2)):\"))\n",
    "           \n",
    "num = input(\"값을 입력하세요:\")\n",
    "\n",
    "\n",
    "if select == 16:\n",
    "           num10=int(num,16)\n",
    "if select == 10:\n",
    "           num10=int(num,10)\n",
    "if select == 8:\n",
    "           num10=int(num,8)\n",
    "if select == 2:\n",
    "           num10=int(num,2)\n",
    "        \n",
    "           \n",
    "print(\"16진수:\",hex(num10))\n",
    "print(\"10진수:\",num10)\n",
    "print(\"8진수:\",oct(num10))\n",
    "print(\"2진수:\",bin(num10))"
   ]
  },
  {
   "cell_type": "markdown",
   "metadata": {},
   "source": [
    "# 3. 타입"
   ]
  },
  {
   "cell_type": "markdown",
   "metadata": {},
   "source": [
    "### 수치형"
   ]
  },
  {
   "cell_type": "code",
   "execution_count": 65,
   "metadata": {},
   "outputs": [
    {
     "name": "stdout",
     "output_type": "stream",
     "text": [
      "0x1a\n",
      "0o32\n",
      "0b1101\n"
     ]
    }
   ],
   "source": [
    "### 정수형\n",
    "print(hex(26))\n",
    "print(oct(26))\n",
    "print(bin(13))"
   ]
  },
  {
   "cell_type": "code",
   "execution_count": 66,
   "metadata": {},
   "outputs": [
    {
     "name": "stdout",
     "output_type": "stream",
     "text": [
      "9460000000000.0\n"
     ]
    }
   ],
   "source": [
    "### 실수형\n",
    "a=9.46e12 #12칸 이동\n",
    "print(a)"
   ]
  },
  {
   "cell_type": "code",
   "execution_count": 67,
   "metadata": {},
   "outputs": [
    {
     "name": "stdout",
     "output_type": "stream",
     "text": [
      "(4+6j)\n"
     ]
    }
   ],
   "source": [
    "### 복소수형\n",
    "a=1+2j #j는 허수: j접미가 복소수임을 의미\n",
    "b=3+4j\n",
    "print(a+b)"
   ]
  },
  {
   "cell_type": "markdown",
   "metadata": {},
   "source": [
    "### 문자형"
   ]
  },
  {
   "cell_type": "code",
   "execution_count": 70,
   "metadata": {},
   "outputs": [
    {
     "name": "stdout",
     "output_type": "stream",
     "text": [
      "Korea 서울 1234\n",
      "I say \"Help\" to you\n",
      "I Day\"help\" to you\n"
     ]
    }
   ],
   "source": [
    "### 문자열\n",
    "#역슬러시 넣으면 한 줄로 이어짐\n",
    "a=\"Korea 서울 1234\"\n",
    "print(a)\n",
    "a='I say \"Help\" to you'\n",
    "print(a)\n",
    "a=\"I Day\\\"help\\\" to you\"\n",
    "print(a)"
   ]
  },
  {
   "cell_type": "code",
   "execution_count": 71,
   "metadata": {},
   "outputs": [
    {
     "name": "stdout",
     "output_type": "stream",
     "text": [
      "first\n",
      "second\n",
      "first\tsecond\n"
     ]
    }
   ],
   "source": [
    "### 확장열\n",
    "a=\"first\\nsecond\"\n",
    "print(a)\n",
    "a=\"first\\tsecond\"\n",
    "print(a)"
   ]
  },
  {
   "cell_type": "code",
   "execution_count": 72,
   "metadata": {},
   "outputs": [
    {
     "name": "stdout",
     "output_type": "stream",
     "text": [
      "first\"second\n",
      "first\\second\n"
     ]
    }
   ],
   "source": [
    "a=\"first\\\"second\"\n",
    "print(a)\n",
    "a=\"first\\\\second\"\n",
    "print(a)"
   ]
  },
  {
   "cell_type": "code",
   "execution_count": 73,
   "metadata": {},
   "outputs": [
    {
     "name": "stdout",
     "output_type": "stream",
     "text": [
      "old\\new\n"
     ]
    }
   ],
   "source": [
    "a=\"old\\\\new\"  #줄바꿈인지 아닌지 모르는 경우: \\하나 더 넣어준다,\n",
    "print(a)"
   ]
  },
  {
   "cell_type": "code",
   "execution_count": null,
   "metadata": {},
   "outputs": [],
   "source": []
  },
  {
   "cell_type": "code",
   "execution_count": 74,
   "metadata": {},
   "outputs": [
    {
     "name": "stdout",
     "output_type": "stream",
     "text": [
      "강가루 건너서 밀밭 길을 구름에 달 가듯이 가는 나그네\n",
      "길은 외줄기 남도 삼백리 술 익는 마을마다 타는 저녁놀\n",
      "구름에 달 가듯이 가는 나그네\n"
     ]
    }
   ],
   "source": [
    "### 긴 문자열\n",
    "s=\"\"\"강가루 건너서 밀밭 길을 구름에 달 가듯이 가는 나그네\n",
    "길은 외줄기 남도 삼백리 술 익는 마을마다 타는 저녁놀\n",
    "구름에 달 가듯이 가는 나그네\"\"\"\n",
    "print(s)"
   ]
  },
  {
   "cell_type": "code",
   "execution_count": 75,
   "metadata": {},
   "outputs": [
    {
     "name": "stdout",
     "output_type": "stream",
     "text": [
      "강가루 건너서 밀밭 길을 구름에 달 가듯이 가는 나그네 길은 외줄기 남도 삼백리 술 익는 마을마다 타는 저녁놀 구름에 달 가듯이 가는 나그네\n"
     ]
    }
   ],
   "source": [
    "s=\"강가루 건너서 밀밭 길을 구름에 달 가듯이 가는 나그네 \\\n",
    "길은 외줄기 남도 삼백리 술 익는 마을마다 타는 저녁놀 \\\n",
    "구름에 달 가듯이 가는 나그네\"\n",
    "print(s)"
   ]
  },
  {
   "cell_type": "code",
   "execution_count": 76,
   "metadata": {},
   "outputs": [
    {
     "name": "stdout",
     "output_type": "stream",
     "text": [
      "31536000\n"
     ]
    }
   ],
   "source": [
    "###수식도 연결해줄 수 있다(한 줄로 쓴 것처럼 결과 내고 싶을 때)\n",
    "totalsec = 365 * 24 *\\\n",
    "           60*60\n",
    "print(totalsec)"
   ]
  },
  {
   "cell_type": "code",
   "execution_count": 77,
   "metadata": {},
   "outputs": [
    {
     "name": "stdout",
     "output_type": "stream",
     "text": [
      "koreajapan2002\n",
      "korea   japan  2002\n"
     ]
    }
   ],
   "source": [
    "s=\"korea\" \"japan\" \"2002\"\n",
    "print(s)\n",
    "s=\"korea   japan  2002\"\n",
    "print(s)"
   ]
  },
  {
   "cell_type": "code",
   "execution_count": 86,
   "metadata": {},
   "outputs": [
    {
     "name": "stdout",
     "output_type": "stream",
     "text": [
      "koreajapan2002\n"
     ]
    }
   ],
   "source": [
    "s=(\"korea\"\n",
    "   \"japan\"\n",
    "   \"2002\")\n",
    "print(s)"
   ]
  },
  {
   "cell_type": "code",
   "execution_count": 87,
   "metadata": {},
   "outputs": [
    {
     "name": "stdout",
     "output_type": "stream",
     "text": [
      "2\n",
      "3\n",
      "2.5\n",
      "123000\n"
     ]
    }
   ],
   "source": [
    "#round\n",
    "print(int(2.54))\n",
    "print(round(2.54))\n",
    "print(round(2.54,1))\n",
    "print(round(123456,-3)) #끝자리부터 몇자리를 0으로 만들거니?"
   ]
  },
  {
   "cell_type": "markdown",
   "metadata": {},
   "source": [
    "# 4. 연산자"
   ]
  },
  {
   "cell_type": "markdown",
   "metadata": {},
   "source": [
    "### 대입 및 산술"
   ]
  },
  {
   "cell_type": "code",
   "execution_count": null,
   "metadata": {},
   "outputs": [],
   "source": []
  },
  {
   "cell_type": "markdown",
   "metadata": {},
   "source": [
    "### 타입 변환"
   ]
  },
  {
   "cell_type": "code",
   "execution_count": 79,
   "metadata": {},
   "outputs": [
    {
     "name": "stdout",
     "output_type": "stream",
     "text": [
      "65\n",
      "98\n",
      "98\n"
     ]
    }
   ],
   "source": [
    "print(ord('A'))\n",
    "print((98))\n",
    "print(98)"
   ]
  },
  {
   "cell_type": "code",
   "execution_count": 84,
   "metadata": {},
   "outputs": [
    {
     "name": "stdout",
     "output_type": "stream",
     "text": [
      "A B C D E F G H I J K L M N O P Q R S T U V W X Y Z "
     ]
    }
   ],
   "source": [
    "for c in range(ord('A'), ord('Z') + 1): #숫자로 돌고\n",
    "    \n",
    "    print(chr(c), end = ' ') #문자로 출력, 그리고 이어서"
   ]
  },
  {
   "cell_type": "code",
   "execution_count": null,
   "metadata": {},
   "outputs": [],
   "source": []
  },
  {
   "cell_type": "markdown",
   "metadata": {},
   "source": [
    "# 5. 조건문"
   ]
  },
  {
   "cell_type": "code",
   "execution_count": 88,
   "metadata": {},
   "outputs": [
    {
     "name": "stdout",
     "output_type": "stream",
     "text": [
      "연령은 어떻게 됩니까?22\n"
     ]
    }
   ],
   "source": [
    "age = int(input(\"연령은 어떻게 됩니까?\"))\n",
    "if age < 19:\n",
    "    print('미성년 입니다.')"
   ]
  },
  {
   "cell_type": "code",
   "execution_count": 89,
   "metadata": {},
   "outputs": [
    {
     "name": "stdout",
     "output_type": "stream",
     "text": [
      "3이다.\n",
      "5보다 작다.\n"
     ]
    }
   ],
   "source": [
    "a=3\n",
    "if a ==3:\n",
    "    print(\"3이다.\")\n",
    "if a > 5:\n",
    "    print(\"5보다 크다.\")\n",
    "if a < 5:\n",
    "    print(\"5보다 작다.\")"
   ]
  },
  {
   "cell_type": "code",
   "execution_count": 90,
   "metadata": {},
   "outputs": [
    {
     "name": "stdout",
     "output_type": "stream",
     "text": [
      "한국입니다.\n"
     ]
    }
   ],
   "source": [
    "country = \"Korea\"\n",
    "if country == \"Korea\":\n",
    "    print(\"한국입니다.\")\n",
    "if country == \"korea\":\n",
    "    print(\"대한국입니다.\")"
   ]
  },
  {
   "cell_type": "code",
   "execution_count": 91,
   "metadata": {},
   "outputs": [
    {
     "name": "stdout",
     "output_type": "stream",
     "text": [
      "k\n",
      "한국이 더 크다\n"
     ]
    }
   ],
   "source": [
    "#stringcompare2\n",
    "if (\"k\">\"J\"):\n",
    "    print(\"k\")\n",
    "if (\"k\"<\"J\"):\n",
    "    print(\"j\")\n",
    "\n",
    "if (\"korea\">\"Japan\"):\n",
    "    print(\"한국이 더 크다\")\n",
    "if (\"korea\"<\"Japan\"):\n",
    "    print(\"일본이 더 크다\")"
   ]
  },
  {
   "cell_type": "code",
   "execution_count": 92,
   "metadata": {},
   "outputs": [
    {
     "name": "stdout",
     "output_type": "stream",
     "text": [
      "열심히 공부한다.\n"
     ]
    }
   ],
   "source": [
    "energy = 1 #1==true\n",
    "if energy:\n",
    "    print(\"열심히 공부한다.\")"
   ]
  },
  {
   "cell_type": "code",
   "execution_count": 93,
   "metadata": {},
   "outputs": [
    {
     "name": "stdout",
     "output_type": "stream",
     "text": [
      "OK\n"
     ]
    }
   ],
   "source": [
    "a=3\n",
    "if a > 1 and a  < 10:\n",
    "    print(\"OK\")"
   ]
  },
  {
   "cell_type": "code",
   "execution_count": 94,
   "metadata": {},
   "outputs": [
    {
     "name": "stdout",
     "output_type": "stream",
     "text": [
      "A\n",
      "B\n",
      "C\n",
      "D\n"
     ]
    }
   ],
   "source": [
    "#elif\n",
    "\n",
    "Grades = 90\n",
    "\n",
    "if Grades >= 90:\n",
    "    print(\"A\")\n",
    "if Grades >= 80:\n",
    "    print(\"B\")\n",
    "if Grades >= 70:\n",
    "    print(\"C\")\n",
    "if Grades >= 60:\n",
    "    print(\"D\")\n",
    "else:\n",
    "    print(\"F\")"
   ]
  },
  {
   "cell_type": "markdown",
   "metadata": {},
   "source": [
    "### 성적 변환 문제"
   ]
  },
  {
   "cell_type": "code",
   "execution_count": 3,
   "metadata": {},
   "outputs": [
    {
     "name": "stdout",
     "output_type": "stream",
     "text": [
      "점수를 입력하세요 : 85\n",
      "B+\n",
      "학점 입니다. ^^\n"
     ]
    }
   ],
   "source": [
    "score=int(input(\"점수를 입력하세요 : \"))\n",
    "\n",
    "if   score >= 95 :\n",
    "     print(\"A+\")\n",
    "elif score >= 90:\n",
    "     print(\"A\")\n",
    "elif score >= 85 :\n",
    "     print(\"B+\")\n",
    "elif score >= 80:\n",
    "     print(\"B\")\n",
    "elif score >= 75 :\n",
    "     print(\"C+\")\n",
    "elif score >= 70:\n",
    "     print(\"C\")\n",
    "elif score >= 65 :\n",
    "     print(\"D+\")\n",
    "elif score >= 60:\n",
    "     print(\"D\")\n",
    "else :\n",
    "     print(\"F\")\n",
    "\n",
    "print(\"학점 입니다. ^^\")"
   ]
  },
  {
   "cell_type": "markdown",
   "metadata": {},
   "source": [
    "### 간단한 계산기 프로그램"
   ]
  },
  {
   "cell_type": "code",
   "execution_count": 2,
   "metadata": {},
   "outputs": [
    {
     "name": "stdout",
     "output_type": "stream",
     "text": [
      "첫번째 데이터를 입력하세요 : 3\n",
      "계산할 연산자를  입력하세요 : **\n",
      "두번째 데이터를 입력하세요 : 2\n",
      " 3 ** 2 = 9 입니다. \n"
     ]
    }
   ],
   "source": [
    "## 변수 선언 부분\n",
    "# a, b, ch = 0, 0, \"\"\n",
    "\n",
    "## 메인(main) 코드 부분\n",
    "a=int(input(\"첫번째 데이터를 입력하세요 : \"))\n",
    "ch=input(\"계산할 연산자를  입력하세요 : \")\n",
    "b=int(input(\"두번째 데이터를 입력하세요 : \"))\n",
    "\n",
    "if ch == \"+\" :\n",
    "    print(\" %d + %d = %d 입니다. \" % (a, b, a + b))\n",
    "elif ch == \"-\" :\n",
    "    print(\" %d - %d = %d 입니다. \" % (a, b, a - b))\n",
    "elif ch == \"*\" :\n",
    "    print(\" %d * %d = %d 입니다. \" % (a, b, a * b))\n",
    "elif ch == \"/\" :\n",
    "    print(\" %d / %d = %f 입니다. \" % (a, b, a / b))    \n",
    "elif ch == \"%\" :\n",
    "    print(\" %d %% %d = %d 입니다. \" % (a, b, a % b))\n",
    "elif ch == \"//\" :\n",
    "    print(\" %d // %d = %d 입니다. \" % (a, b, a // b))\n",
    "elif ch == \"**\" :\n",
    "    print(\" %d ** %d = %d 입니다. \" % (a, b, a ** b))    \n",
    "else :\n",
    "    print(\" 알 수 없는 연산자 입니다.\" ) \n",
    "\n"
   ]
  },
  {
   "cell_type": "markdown",
   "metadata": {},
   "source": [
    "### 종합 계산기 문제(중요)"
   ]
  },
  {
   "cell_type": "code",
   "execution_count": 1,
   "metadata": {},
   "outputs": [
    {
     "name": "stdout",
     "output_type": "stream",
     "text": [
      "1. 수식 계산기  2.두수 사이 합계  : 2\n",
      " *** 첫번째 숫자를 입력하세요  : 3\n",
      " *** 두번째 숫자를 입력하세요  : 4\n",
      " 3+...+4는  7입니다. \n"
     ]
    }
   ],
   "source": [
    "## 변수 선언 부분\n",
    "select, answer, numStr, num1, num2 = 0, 0, \"\", 0, 0\n",
    "\n",
    "## 메인(main) 코드 부분\n",
    "select=int(input(\"1. 수식 계산기  2.두수 사이 합계  : \"))\n",
    "\n",
    "if  select == 1 :\n",
    "    numStr=input(\" *** 수식을 입력하세요  : \")\n",
    "    answer = eval(numStr)\n",
    "    print(\" %s 결과는 %5.1f 입니다. \" % (numStr, answer))\n",
    "elif select == 2 :\n",
    "    num1=int(input(\" *** 첫번째 숫자를 입력하세요  : \"))\n",
    "    num2=int(input(\" *** 두번째 숫자를 입력하세요  : \"))\n",
    "    for i in range(num1, num2+1):\n",
    "        answer = answer + i\n",
    "    print(\" %d+...+%d는  %d입니다. \" % (num1, num2, answer))\n",
    "else :\n",
    "     print(\"1 또는 2만 입력해야 합니다.\")"
   ]
  },
  {
   "cell_type": "markdown",
   "metadata": {},
   "source": [
    "# 6. 반복문"
   ]
  },
  {
   "cell_type": "code",
   "execution_count": 100,
   "metadata": {},
   "outputs": [
    {
     "name": "stdout",
     "output_type": "stream",
     "text": [
      "1 번 학생의 성적을 처리한다.\n",
      "2 번 학생의 성적을 처리한다.\n",
      "3 번 학생의 성적을 처리한다.\n",
      "4 번 학생의 성적을 처리한다.\n",
      "5 번 학생의 성적을 처리한다.\n"
     ]
    }
   ],
   "source": [
    "student = 1\n",
    "while student <= 5:\n",
    "    print(student, \"번 학생의 성적을 처리한다.\")\n",
    "    student +=1"
   ]
  },
  {
   "cell_type": "code",
   "execution_count": 101,
   "metadata": {},
   "outputs": [
    {
     "name": "stdout",
     "output_type": "stream",
     "text": [
      "sum = 5050\n"
     ]
    }
   ],
   "source": [
    "num = 1\n",
    "sum = 0\n",
    "while num <= 100:\n",
    "    sum += num\n",
    "    num += 1\n",
    "print(\"sum =\", sum)"
   ]
  },
  {
   "cell_type": "code",
   "execution_count": 102,
   "metadata": {},
   "outputs": [
    {
     "name": "stdout",
     "output_type": "stream",
     "text": [
      "1 번 학생의 성적을 처리한다.\n",
      "2 번 학생의 성적을 처리한다.\n",
      "3 번 학생의 성적을 처리한다.\n",
      "4 번 학생의 성적을 처리한다.\n",
      "5 번 학생의 성적을 처리한다.\n"
     ]
    }
   ],
   "source": [
    "for student in [1,2,3,4,5]:\n",
    "    print(student, \"번 학생의 성적을 처리한다.\")"
   ]
  },
  {
   "cell_type": "code",
   "execution_count": 103,
   "metadata": {},
   "outputs": [
    {
     "name": "stdout",
     "output_type": "stream",
     "text": [
      "sum = 5050\n"
     ]
    }
   ],
   "source": [
    "sum = 0\n",
    "for num in range(1, 101):\n",
    "    sum += num\n",
    "print(\"sum =\", sum)"
   ]
  },
  {
   "cell_type": "code",
   "execution_count": 104,
   "metadata": {},
   "outputs": [
    {
     "name": "stdout",
     "output_type": "stream",
     "text": [
      "- - - - - - - - - + - - - - - - - - - + - - - - - - - - - + - - - - - - - - - + - - - - - - - - - + "
     ]
    }
   ],
   "source": [
    "for x in range(1,51):\n",
    "    if (x % 10 == 0):\n",
    "        print('+',end=' ')\n",
    "    else:\n",
    "        print('-',end=' ')"
   ]
  },
  {
   "cell_type": "code",
   "execution_count": 105,
   "metadata": {},
   "outputs": [
    {
     "name": "stdout",
     "output_type": "stream",
     "text": [
      "- - - - - - - - - + - - - - - - - - - + - - - - - - - - - + - - - - - - - - - + - - - - - - - - - + "
     ]
    }
   ],
   "source": [
    "x=1\n",
    "while x<=50:\n",
    "    if (x%10):\n",
    "        print('-', end=' ')\n",
    "    else:\n",
    "        print('+', end=' ')\n",
    "    x += 1\n",
    "#x를 10으로 나눈 나머지가 1이상인 경우 true로 간주하여 if문 조건을 실행한다.\n",
    "\n",
    "\n"
   ]
  },
  {
   "cell_type": "code",
   "execution_count": 106,
   "metadata": {},
   "outputs": [
    {
     "name": "stdout",
     "output_type": "stream",
     "text": [
      "92\n",
      "86\n",
      "68\n",
      "성적 처리 끝\n"
     ]
    }
   ],
   "source": [
    "#break\n",
    "score=[92,86,68,120,56]\n",
    "for s in score:\n",
    "    if (s<0 or s>100):\n",
    "        break\n",
    "    print(s)\n",
    "print(\"성적 처리 끝\")"
   ]
  },
  {
   "cell_type": "code",
   "execution_count": 107,
   "metadata": {},
   "outputs": [
    {
     "name": "stdout",
     "output_type": "stream",
     "text": [
      "92\n",
      "86\n",
      "68\n",
      "56\n",
      "성적 처리 끝\n"
     ]
    }
   ],
   "source": [
    "#continue\n",
    "score=[92,86,68,-1,56]\n",
    "for s in score:\n",
    "    if (s==-1):\n",
    "        continue\n",
    "    print(s)\n",
    "print(\"성적 처리 끝\")"
   ]
  },
  {
   "cell_type": "code",
   "execution_count": 108,
   "metadata": {
    "collapsed": true
   },
   "outputs": [
    {
     "name": "stdout",
     "output_type": "stream",
     "text": [
      "2 단\n",
      "2 * 2 = 4\n",
      "2 * 3 = 6\n",
      "2 * 4 = 8\n",
      "2 * 5 = 10\n",
      "2 * 6 = 12\n",
      "2 * 7 = 14\n",
      "2 * 8 = 16\n",
      "2 * 9 = 18\n",
      "\n",
      "3 단\n",
      "3 * 2 = 6\n",
      "3 * 3 = 9\n",
      "3 * 4 = 12\n",
      "3 * 5 = 15\n",
      "3 * 6 = 18\n",
      "3 * 7 = 21\n",
      "3 * 8 = 24\n",
      "3 * 9 = 27\n",
      "\n",
      "4 단\n",
      "4 * 2 = 8\n",
      "4 * 3 = 12\n",
      "4 * 4 = 16\n",
      "4 * 5 = 20\n",
      "4 * 6 = 24\n",
      "4 * 7 = 28\n",
      "4 * 8 = 32\n",
      "4 * 9 = 36\n",
      "\n",
      "5 단\n",
      "5 * 2 = 10\n",
      "5 * 3 = 15\n",
      "5 * 4 = 20\n",
      "5 * 5 = 25\n",
      "5 * 6 = 30\n",
      "5 * 7 = 35\n",
      "5 * 8 = 40\n",
      "5 * 9 = 45\n",
      "\n",
      "6 단\n",
      "6 * 2 = 12\n",
      "6 * 3 = 18\n",
      "6 * 4 = 24\n",
      "6 * 5 = 30\n",
      "6 * 6 = 36\n",
      "6 * 7 = 42\n",
      "6 * 8 = 48\n",
      "6 * 9 = 54\n",
      "\n",
      "7 단\n",
      "7 * 2 = 14\n",
      "7 * 3 = 21\n",
      "7 * 4 = 28\n",
      "7 * 5 = 35\n",
      "7 * 6 = 42\n",
      "7 * 7 = 49\n",
      "7 * 8 = 56\n",
      "7 * 9 = 63\n",
      "\n",
      "8 단\n",
      "8 * 2 = 16\n",
      "8 * 3 = 24\n",
      "8 * 4 = 32\n",
      "8 * 5 = 40\n",
      "8 * 6 = 48\n",
      "8 * 7 = 56\n",
      "8 * 8 = 64\n",
      "8 * 9 = 72\n",
      "\n",
      "9 단\n",
      "9 * 2 = 18\n",
      "9 * 3 = 27\n",
      "9 * 4 = 36\n",
      "9 * 5 = 45\n",
      "9 * 6 = 54\n",
      "9 * 7 = 63\n",
      "9 * 8 = 72\n",
      "9 * 9 = 81\n",
      "\n"
     ]
    }
   ],
   "source": [
    "#이중루프(구구단)\n",
    "for dan in range(2,10):\n",
    "    print(dan, \"단\")\n",
    "    for hang in range(2,10):\n",
    "        print(dan, \"*\", hang, \"=\", dan*hang)\n",
    "    print()"
   ]
  },
  {
   "cell_type": "code",
   "execution_count": 112,
   "metadata": {
    "collapsed": true
   },
   "outputs": [
    {
     "name": "stdout",
     "output_type": "stream",
     "text": [
      "2 단\n",
      "2 * 2 = 4\n",
      "2 * 3 = 6\n",
      "2 * 4 = 8\n",
      "2 * 5 = 10\n",
      "2 * 6 = 12\n",
      "2 * 7 = 14\n",
      "2 * 8 = 16\n",
      "2 * 9 = 18\n",
      "\n",
      "3 단\n",
      "3 * 2 = 6\n",
      "3 * 3 = 9\n",
      "3 * 4 = 12\n",
      "3 * 5 = 15\n",
      "3 * 6 = 18\n",
      "3 * 7 = 21\n",
      "3 * 8 = 24\n",
      "3 * 9 = 27\n",
      "\n",
      "4 단\n",
      "4 * 2 = 8\n",
      "4 * 3 = 12\n",
      "4 * 4 = 16\n",
      "4 * 5 = 20\n",
      "4 * 6 = 24\n",
      "4 * 7 = 28\n",
      "4 * 8 = 32\n",
      "4 * 9 = 36\n",
      "\n",
      "5 단\n",
      "5 * 2 = 10\n",
      "5 * 3 = 15\n",
      "5 * 4 = 20\n",
      "5 * 5 = 25\n",
      "5 * 6 = 30\n",
      "5 * 7 = 35\n",
      "5 * 8 = 40\n",
      "5 * 9 = 45\n",
      "\n",
      "6 단\n",
      "6 * 2 = 12\n",
      "6 * 3 = 18\n",
      "6 * 4 = 24\n",
      "6 * 5 = 30\n",
      "6 * 6 = 36\n",
      "6 * 7 = 42\n",
      "6 * 8 = 48\n",
      "6 * 9 = 54\n",
      "\n",
      "7 단\n",
      "7 * 2 = 14\n",
      "7 * 3 = 21\n",
      "7 * 4 = 28\n",
      "7 * 5 = 35\n",
      "7 * 6 = 42\n",
      "7 * 7 = 49\n",
      "7 * 8 = 56\n",
      "7 * 9 = 63\n",
      "\n",
      "8 단\n",
      "8 * 2 = 16\n",
      "8 * 3 = 24\n",
      "8 * 4 = 32\n",
      "8 * 5 = 40\n",
      "8 * 6 = 48\n",
      "8 * 7 = 56\n",
      "8 * 8 = 64\n",
      "8 * 9 = 72\n",
      "\n",
      "9 단\n",
      "9 * 2 = 18\n",
      "9 * 3 = 27\n",
      "9 * 4 = 36\n",
      "9 * 5 = 45\n",
      "9 * 6 = 54\n",
      "9 * 7 = 63\n",
      "9 * 8 = 72\n",
      "9 * 9 = 81\n",
      "\n"
     ]
    }
   ],
   "source": [
    "dan=2\n",
    "while dan<=9:\n",
    "    hang=2\n",
    "    print(dan,\"단\")\n",
    "    while hang <= 9:\n",
    "        print(dan, \"*\", hang, \"=\", dan*hang)\n",
    "        hang+=1\n",
    "    dan+=1\n",
    "    print()"
   ]
  },
  {
   "cell_type": "code",
   "execution_count": 113,
   "metadata": {},
   "outputs": [
    {
     "name": "stdout",
     "output_type": "stream",
     "text": [
      "0 : 안녕하세요? for문을 공부중입니다.\n",
      "1 : 안녕하세요? for문을 공부중입니다.\n",
      "2 : 안녕하세요? for문을 공부중입니다.\n"
     ]
    }
   ],
   "source": [
    "for i in range(0,3,1):\n",
    "    print(\"%d : 안녕하세요? for문을 공부중입니다.\" %i)"
   ]
  },
  {
   "cell_type": "code",
   "execution_count": 114,
   "metadata": {},
   "outputs": [
    {
     "name": "stdout",
     "output_type": "stream",
     "text": [
      "2 : 안녕하세요? for문을 공부중입니다.\n",
      "1 : 안녕하세요? for문을 공부중입니다.\n",
      "0 : 안녕하세요? for문을 공부중입니다.\n"
     ]
    }
   ],
   "source": [
    "for i in range(2,-1,-1):\n",
    "    print(\"%d : 안녕하세요? for문을 공부중입니다.\" %i)"
   ]
  },
  {
   "cell_type": "code",
   "execution_count": 115,
   "metadata": {},
   "outputs": [
    {
     "name": "stdout",
     "output_type": "stream",
     "text": [
      "1  2  3  4  5  "
     ]
    }
   ],
   "source": [
    "for i in range(1,6,1):\n",
    "    print(\"%d \"%i , end=\" \")"
   ]
  },
  {
   "cell_type": "code",
   "execution_count": 116,
   "metadata": {},
   "outputs": [
    {
     "name": "stdout",
     "output_type": "stream",
     "text": [
      "1에서 10까지의 합: 55\n"
     ]
    }
   ],
   "source": [
    "i,hap=0,0\n",
    "for i in range(1,11,1):\n",
    "    hap=hap+i\n",
    "print(\"1에서 10까지의 합: %d\" % hap)"
   ]
  },
  {
   "cell_type": "code",
   "execution_count": 117,
   "metadata": {},
   "outputs": [
    {
     "name": "stdout",
     "output_type": "stream",
     "text": [
      "500에서 1000까지 홀수의 합: 187500\n"
     ]
    }
   ],
   "source": [
    "i,hap=0,0\n",
    "for i in range(501,1001,2):\n",
    "    hap=hap+i\n",
    "print(\"500에서 1000까지 홀수의 합: %d\" % hap)"
   ]
  },
  {
   "cell_type": "code",
   "execution_count": 118,
   "metadata": {},
   "outputs": [
    {
     "name": "stdout",
     "output_type": "stream",
     "text": [
      "값 입력:3\n",
      "1에서 3까지 합: 6\n"
     ]
    }
   ],
   "source": [
    "i,hap=0,0\n",
    "num=0\n",
    "num=int(input(\"값 입력:\"))\n",
    "for i in range(1,num+1,1):\n",
    "    hap+=i\n",
    "print(\"1에서 %d까지 합: %d\" % (num,hap))"
   ]
  },
  {
   "cell_type": "code",
   "execution_count": null,
   "metadata": {},
   "outputs": [],
   "source": [
    "#i,dan=0,0\n",
    "#dan=int(input(\"몇 단?\"))\n",
    "#for i in range(1,10,1):\n",
    "#    print(\" %dX%d=%2d\" % (dan,i,dan*i))"
   ]
  },
  {
   "cell_type": "markdown",
   "metadata": {},
   "source": [
    "### 구구단 세로 출력 문제"
   ]
  },
  {
   "cell_type": "code",
   "execution_count": 110,
   "metadata": {},
   "outputs": [
    {
     "name": "stdout",
     "output_type": "stream",
     "text": [
      " # 2단 # # 3단 # # 4단 # # 5단 # # 6단 # # 7단 # # 8단 # # 9단 #\n",
      "2X1=2\t3X1=3\t4X1=4\t5X1=5\t6X1=6\t7X1=7\t8X1=8\t9X1=9\t\n",
      "2X2=4\t3X2=6\t4X2=8\t5X2=10\t6X2=12\t7X2=14\t8X2=16\t9X2=18\t\n",
      "2X3=6\t3X3=9\t4X3=12\t5X3=15\t6X3=18\t7X3=21\t8X3=24\t9X3=27\t\n",
      "2X4=8\t3X4=12\t4X4=16\t5X4=20\t6X4=24\t7X4=28\t8X4=32\t9X4=36\t\n",
      "2X5=10\t3X5=15\t4X5=20\t5X5=25\t6X5=30\t7X5=35\t8X5=40\t9X5=45\t\n",
      "2X6=12\t3X6=18\t4X6=24\t5X6=30\t6X6=36\t7X6=42\t8X6=48\t9X6=54\t\n",
      "2X7=14\t3X7=21\t4X7=28\t5X7=35\t6X7=42\t7X7=49\t8X7=56\t9X7=63\t\n",
      "2X8=16\t3X8=24\t4X8=32\t5X8=40\t6X8=48\t7X8=56\t8X8=64\t9X8=72\t\n",
      "2X9=18\t3X9=27\t4X9=36\t5X9=45\t6X9=54\t7X9=63\t8X9=72\t9X9=81\t\n"
     ]
    }
   ],
   "source": [
    "i,k,gline = 0,0,\"\"\n",
    "for  i in range(2,10):\n",
    "    gline = gline + (\" # %d단 #\" % i)\n",
    "\n",
    "print(gline)\n",
    "\n",
    "for b in range(1,10):\n",
    "    for a in range(2,10):\n",
    "        print(\"%dX%d=%d\" %(a,b,a*b),end=\"\\t\")\n",
    "    print(\"\")"
   ]
  },
  {
   "cell_type": "markdown",
   "metadata": {},
   "source": [
    "### 하트 출력 프로그램"
   ]
  },
  {
   "cell_type": "code",
   "execution_count": 111,
   "metadata": {},
   "outputs": [
    {
     "name": "stdout",
     "output_type": "stream",
     "text": [
      "숫자를 여러개 입력하세요:123\n",
      "\n",
      "♥\n",
      "♥♥\n",
      "♥♥♥\n"
     ]
    }
   ],
   "source": [
    "i,k,heartNum=0,0,0\n",
    "numStr,ch,heartStr=\"\",\"\",\"\"\n",
    "\n",
    "numStr=input(\"숫자를 여러개 입력하세요:\")\n",
    "print(\"\")\n",
    "\n",
    "i=0\n",
    "ch=numStr[i]\n",
    "while True:\n",
    "    heartNum=int(ch)\n",
    "\n",
    "    heartStr=\"\"\n",
    "    for k in range(0,heartNum):\n",
    "        heartStr += \"\\u2665\"\n",
    "    print(heartStr)\n",
    "\n",
    "    i += 1\n",
    "    if (i>len(numStr)-1):\n",
    "        break\n",
    "\n",
    "    ch=numStr[i]"
   ]
  },
  {
   "cell_type": "markdown",
   "metadata": {},
   "source": [
    "# 7. 함수"
   ]
  },
  {
   "cell_type": "code",
   "execution_count": 1,
   "metadata": {},
   "outputs": [
    {
     "name": "stdout",
     "output_type": "stream",
     "text": [
      "어떤 커피를 드릴까요? (1:보통, 2:설탕, 3:블랙)1\n",
      "\n",
      "# 1. 뜨거운 물을 준비한다.\n",
      "# 2. 종이컵을 준비한다.\n",
      "# 3. 보통커피를 탄다.\n",
      "# 4. 물을 붓는다.\n",
      "# 5. 스푼으로 저어서 녹인다.\n",
      "\n",
      "손님~ 커피 여기 있습니다.\n"
     ]
    }
   ],
   "source": [
    "coffee=0\n",
    "coffee = int(input(\"어떤 커피를 드릴까요? (1:보통, 2:설탕, 3:블랙)\"))\n",
    "\n",
    "print()\n",
    "print('# 1. 뜨거운 물을 준비한다.')\n",
    "print('# 2. 종이컵을 준비한다.')\n",
    "if coffee == 1:\n",
    "    print('# 3. 보통커피를 탄다.')\n",
    "elif coffee ==2:\n",
    "    print('# 3. 설탕커피를 탄다.')\n",
    "elif coffee ==3:\n",
    "    print('# 3. 블랙커피를 탄다.')\n",
    "print('# 4. 물을 붓는다.')\n",
    "print('# 5. 스푼으로 저어서 녹인다.')\n",
    "print()\n",
    "print('손님~ 커피 여기 있습니다.')"
   ]
  },
  {
   "cell_type": "code",
   "execution_count": 2,
   "metadata": {},
   "outputs": [
    {
     "name": "stdout",
     "output_type": "stream",
     "text": [
      "어떤 커피를 드릴까요? (1:보통, 2:설탕, 3:블랙)2\n",
      "\n",
      "# 1. (자동으로) 뜨거운 물을 준비한다.\n",
      "# 2. (자동으로) 종이컵을 준비한다.\n",
      "# 3. (자동으로) 설탕커피를 탄다.\n",
      "# 4. (자동으로) 물을 붓는다.\n",
      "# 5. (자동으로) 스푼으로 저어서 녹인다.\n",
      "\n",
      "손님~ 커피 여기 있습니다.\n"
     ]
    }
   ],
   "source": [
    "button=0\n",
    "button = int(input(\"어떤 커피를 드릴까요? (1:보통, 2:설탕, 3:블랙)\"))\n",
    "def coffee_machine(button):\n",
    "    print()\n",
    "    print('# 1. (자동으로) 뜨거운 물을 준비한다.');\n",
    "    print('# 2. (자동으로) 종이컵을 준비한다.');\n",
    "    if button == 1:\n",
    "        print('# 3. (자동으로) 보통커피를 탄다.')\n",
    "    elif button == 2:\n",
    "        print('# 3. (자동으로) 설탕커피를 탄다.')\n",
    "    elif button == 3:\n",
    "        print('# 3. (자동으로) 블랙커피를 탄다.')\n",
    "    print('# 4. (자동으로) 물을 붓는다.')\n",
    "    print('# 5. (자동으로) 스푼으로 저어서 녹인다.')\n",
    "    print()\n",
    "    print('손님~ 커피 여기 있습니다.')\n",
    "coffee_machine(button)"
   ]
  },
  {
   "cell_type": "code",
   "execution_count": 3,
   "metadata": {},
   "outputs": [
    {
     "name": "stdout",
     "output_type": "stream",
     "text": [
      "A손님~ 어떤 커피를 드릴까요? (1:보통, 2:설탕, 3:블랙)3\n",
      "\n",
      "# 1. (자동으로) 뜨거운 물을 준비한다.\n",
      "# 2. (자동으로) 종이컵을 준비한다.\n",
      "# 3. (자동으로) 블랙커피를 탄다.\n",
      "# 4. (자동으로) 물을 붓는다.\n",
      "# 5. (자동으로) 스푼으로 저어서 녹인다.\n",
      "\n",
      "A손님~ 커피 여기 있습니다.\n",
      "B손님~ 어떤 커피를 드릴까요? (1:보통, 2:설탕, 3:블랙)2\n",
      "\n",
      "# 1. (자동으로) 뜨거운 물을 준비한다.\n",
      "# 2. (자동으로) 종이컵을 준비한다.\n",
      "# 3. (자동으로) 설탕커피를 탄다.\n",
      "# 4. (자동으로) 물을 붓는다.\n",
      "# 5. (자동으로) 스푼으로 저어서 녹인다.\n",
      "\n",
      "B손님~ 커피 여기 있습니다.\n",
      "C손님~ 어떤 커피를 드릴까요? (1:보통, 2:설탕, 3:블랙)1\n",
      "\n",
      "# 1. (자동으로) 뜨거운 물을 준비한다.\n",
      "# 2. (자동으로) 종이컵을 준비한다.\n",
      "# 3. (자동으로) 보통커피를 탄다.\n",
      "# 4. (자동으로) 물을 붓는다.\n",
      "# 5. (자동으로) 스푼으로 저어서 녹인다.\n",
      "\n",
      "C손님~ 커피 여기 있습니다.\n"
     ]
    }
   ],
   "source": [
    "def coffee_machine(coffee):\n",
    "    print()\n",
    "    print('# 1. (자동으로) 뜨거운 물을 준비한다.');\n",
    "    print('# 2. (자동으로) 종이컵을 준비한다.');\n",
    "    if coffee == 1:\n",
    "        print('# 3. (자동으로) 보통커피를 탄다.')\n",
    "    elif coffee == 2:\n",
    "        print('# 3. (자동으로) 설탕커피를 탄다.')\n",
    "    elif coffee == 3:\n",
    "        print('# 3. (자동으로) 블랙커피를 탄다.')\n",
    "    print('# 4. (자동으로) 물을 붓는다.')\n",
    "    print('# 5. (자동으로) 스푼으로 저어서 녹인다.')\n",
    "    print()\n",
    "coffee=0\n",
    "coffee = int(input(\"A손님~ 어떤 커피를 드릴까요? (1:보통, 2:설탕, 3:블랙)\"))\n",
    "coffee_machine(coffee)\n",
    "print(\"A손님~ 커피 여기 있습니다.\")\n",
    "coffee = int(input(\"B손님~ 어떤 커피를 드릴까요? (1:보통, 2:설탕, 3:블랙)\"))\n",
    "coffee_machine(coffee)\n",
    "print(\"B손님~ 커피 여기 있습니다.\")\n",
    "coffee = int(input(\"C손님~ 어떤 커피를 드릴까요? (1:보통, 2:설탕, 3:블랙)\"))\n",
    "coffee_machine(coffee)\n",
    "print(\"C손님~ 커피 여기 있습니다.\")"
   ]
  },
  {
   "cell_type": "markdown",
   "metadata": {},
   "source": [
    "#### [함수 프로그래밍]"
   ]
  },
  {
   "cell_type": "code",
   "execution_count": 4,
   "metadata": {},
   "outputs": [
    {
     "data": {
      "text/plain": [
       "60"
      ]
     },
     "execution_count": 4,
     "metadata": {},
     "output_type": "execute_result"
    }
   ],
   "source": [
    "#가변인수\n",
    "def para_func(*para):\n",
    "    result=0\n",
    "    for num in para:\n",
    "        result+=num\n",
    "    return result\n",
    "\n",
    "hap=0\n",
    "hap=para_func(10, 20, 30)\n",
    "hap"
   ]
  },
  {
   "cell_type": "code",
   "execution_count": 5,
   "metadata": {},
   "outputs": [
    {
     "name": "stdout",
     "output_type": "stream",
     "text": [
      "아이오아이 --> 11 명입니다.\n",
      "소녀시대 --> 8 명입니다.\n",
      "걸스데이 --> 4 명입니다.\n",
      "AOA --> 7 명입니다.\n"
     ]
    }
   ],
   "source": [
    "#키워드 가변인수\n",
    "def dic_func(**para):\n",
    "    for k in para.keys():\n",
    "        print(\"%s --> %d 명입니다.\" % (k, para[k]))\n",
    "        \n",
    "dic_func(아이오아이=11, 소녀시대=8, 걸스데이=4, AOA=7)"
   ]
  }
 ],
 "metadata": {
  "kernelspec": {
   "display_name": "Python 3",
   "language": "python",
   "name": "python3"
  },
  "language_info": {
   "codemirror_mode": {
    "name": "ipython",
    "version": 3
   },
   "file_extension": ".py",
   "mimetype": "text/x-python",
   "name": "python",
   "nbconvert_exporter": "python",
   "pygments_lexer": "ipython3",
   "version": "3.7.2"
  }
 },
 "nbformat": 4,
 "nbformat_minor": 2
}
