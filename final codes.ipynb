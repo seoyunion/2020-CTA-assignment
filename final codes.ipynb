{
 "cells": [
  {
   "cell_type": "code",
   "execution_count": 4,
   "metadata": {},
   "outputs": [
    {
     "name": "stdout",
     "output_type": "stream",
     "text": [
      "['서울', '대전', '대구', '부산']\n"
     ]
    }
   ],
   "source": [
    "s2 = \"서울->대전->대구->부산\"\n",
    "city =s2.split(\"->\")\n",
    "print(city)"
   ]
  },
  {
   "cell_type": "code",
   "execution_count": 8,
   "metadata": {},
   "outputs": [
    {
     "data": {
      "text/plain": [
       "'서울 찍고 대전 찍고 대구 찍고 부산'"
      ]
     },
     "execution_count": 8,
     "metadata": {},
     "output_type": "execute_result"
    }
   ],
   "source": [
    "s = ' 찍고 '\n",
    "s.join(city)"
   ]
  },
  {
   "cell_type": "code",
   "execution_count": 9,
   "metadata": {},
   "outputs": [
    {
     "name": "stdout",
     "output_type": "stream",
     "text": [
      "서울 찍고 대전 찍고 대구 찍고 부산\n"
     ]
    }
   ],
   "source": [
    "print(\" 찍고 \".join(city))"
   ]
  },
  {
   "cell_type": "code",
   "execution_count": null,
   "metadata": {},
   "outputs": [],
   "source": []
  },
  {
   "cell_type": "code",
   "execution_count": null,
   "metadata": {},
   "outputs": [],
   "source": []
  },
  {
   "cell_type": "code",
   "execution_count": null,
   "metadata": {},
   "outputs": [],
   "source": []
  },
  {
   "cell_type": "code",
   "execution_count": null,
   "metadata": {},
   "outputs": [],
   "source": []
  },
  {
   "cell_type": "code",
   "execution_count": null,
   "metadata": {},
   "outputs": [],
   "source": []
  },
  {
   "cell_type": "code",
   "execution_count": null,
   "metadata": {},
   "outputs": [],
   "source": []
  },
  {
   "cell_type": "markdown",
   "metadata": {},
   "source": [
    "### 자동차 주차 문제"
   ]
  },
  {
   "cell_type": "code",
   "execution_count": 1,
   "metadata": {},
   "outputs": [
    {
     "name": "stdout",
     "output_type": "stream",
     "text": [
      "<1>자동차 넣기 <2>자동차 빼기 <3>끝 : 3\n",
      "현재 주차장에 0대가 있음.\n",
      "프로그램을 종료합니다.\n"
     ]
    }
   ],
   "source": [
    "## 문제3 ## -> 기말고사\n",
    "\n",
    "#ord->ch 카운트 누적\n",
    "\n",
    "#변수 초기화\n",
    "parking=[]\n",
    "top=0\n",
    "carName=\"A\"\n",
    "outCar=\"\"\n",
    "\n",
    "select = 1\n",
    "\n",
    "while (select != 3):\n",
    "    select = int(input(\"<1>자동차 넣기 <2>자동차 빼기 <3>끝 : \"))\n",
    "    if (select==1):\n",
    "        if (top >=5):\n",
    "            print(\"주차장이 꽉 차서 못 들어감\")\n",
    "        else:\n",
    "            parking.append(carName)\n",
    "            print(\"%s 자동차 들어감. 주차장 상태==> %s\"% (parking[top],parking))\n",
    "            top+=1\n",
    "            carName = chr(ord(carName)+1)\n",
    "    elif (select==2):\n",
    "        if (top <= 0):\n",
    "            print(\"빠져나갈 자동차가 없음\")\n",
    "        else:\n",
    "            a = parking.pop()\n",
    "            print(\"%s 자동차 나감. 주차장 상태==> %s\" % (a,parking))\n",
    "            top-=1\n",
    "            carName = chr(ord(carName)-1)\n",
    "\n",
    "    else:\n",
    "        if select == 3: break\n",
    "        print(\"잘못 입력했네요. 다시 입력하세요.\")\n",
    "\n",
    "if (select == 3):\n",
    "    print(\"현재 주차장에 %d대가 있음.\" % len(parking))\n",
    "    print(\"프로그램을 종료합니다.\")"
   ]
  },
  {
   "cell_type": "code",
   "execution_count": 2,
   "metadata": {},
   "outputs": [
    {
     "name": "stdout",
     "output_type": "stream",
     "text": [
      "~10= 55\n",
      "입력값이 잘못됨\n"
     ]
    }
   ],
   "source": [
    "########## 이거 시험문제 ############\n",
    "def calcsum(n):\n",
    "    if (n<0):\n",
    "        return -1\n",
    "    sum=0\n",
    "    for i in range(n+1):\n",
    "        sum = sum+i\n",
    "    return sum\n",
    "\n",
    "result = calcsum(10)\n",
    "if result == -1:\n",
    "    print(\"입력값이 잘못됨\")\n",
    "else:\n",
    "    print(\"~10=\",result)\n",
    "    \n",
    "result=calcsum(-5)\n",
    "if result == -1:\n",
    "    print(\"입력값이 잘못됨\")\n",
    "else:\n",
    "    print(\"~10=\",result)"
   ]
  },
  {
   "cell_type": "code",
   "execution_count": 2,
   "metadata": {},
   "outputs": [
    {
     "name": "stdout",
     "output_type": "stream",
     "text": [
      "현재 리스트 : [30, 10, 20]\n",
      "append(40) 후의 리스트 : [30, 10, 20, 40]\n",
      "pop() 으로 추출한 값 : 40\n",
      "pop() 후의 리스트 : [30, 10, 20]\n",
      "sort() 후의 리스트 : [10, 20, 30]\n",
      "reverse() 후의 리스트 : [30, 20, 10]\n",
      "20값의 위치 : 1\n",
      "insert(2,222) 후의 리스트 : [30, 20, 222, 10]\n",
      "remove(222)후의 리스트 : [30, 20, 10]\n",
      "extend([77,88,77]) 후의 리스트 : [30, 20, 10, 77, 88, 77]\n",
      "77 값의 개수: 2\n"
     ]
    }
   ],
   "source": [
    "## 문제2 ##\n",
    "myList=[30,10,20]\n",
    "print(\"현재 리스트 :\",myList)\n",
    "myList.append(40)\n",
    "print(\"append(40) 후의 리스트 :\",myList)\n",
    "a=myList.pop()\n",
    "print(\"pop() 으로 추출한 값 :\",a)\n",
    "print(\"pop() 후의 리스트 :\",myList)\n",
    "myList.sort()\n",
    "print(\"sort() 후의 리스트 :\",myList)\n",
    "myList.reverse()\n",
    "print(\"reverse() 후의 리스트 :\",myList)\n",
    "print(\"20값의 위치 :\",myList.index(20))\n",
    "myList.insert(2,222)\n",
    "print(\"insert(2,222) 후의 리스트 :\",myList)\n",
    "myList.remove(222)\n",
    "print(\"remove(222)후의 리스트 :\",myList)\n",
    "myList.extend([77,88,77])\n",
    "print(\"extend([77,88,77]) 후의 리스트 :\",myList)\n",
    "print(\"77 값의 개수:\",myList.count(77))"
   ]
  },
  {
   "cell_type": "code",
   "execution_count": 3,
   "metadata": {},
   "outputs": [
    {
     "name": "stdout",
     "output_type": "stream",
     "text": [
      "1번째 숫자: 1\n",
      "2번째 숫자: 1\n",
      "3번째 숫자: 1\n",
      "4번째 숫자: 1\n",
      "합계==>4 \n"
     ]
    }
   ],
   "source": [
    "#### 추가 문제 ####\n",
    "aa=[0,0,0,0]\n",
    "hap=0\n",
    "aa[0]=int(input(\"1번째 숫자: \"))\n",
    "aa[1]=int(input(\"2번째 숫자: \"))\n",
    "aa[2]=int(input(\"3번째 숫자: \"))\n",
    "aa[3]=int(input(\"4번째 숫자: \"))\n",
    "hap = aa[0]+aa[1]+aa[2]+aa[3]\n",
    "print(\"합계==>%d \" % hap)"
   ]
  },
  {
   "cell_type": "code",
   "execution_count": 5,
   "metadata": {},
   "outputs": [
    {
     "name": "stdout",
     "output_type": "stream",
     "text": [
      "총점 354 , 평균 88.5\n",
      "총점 275 , 평균 68.75\n",
      "총점 328 , 평균 82.0\n",
      "전체평균 79.75\n"
     ]
    }
   ],
   "source": [
    "# 총점/평균/전체평균\n",
    "score = [\n",
    "    [88,76,92,98],\n",
    "    [65,70,58,82],\n",
    "    [82,80,78,88]\n",
    "    ]\n",
    "\n",
    "totalmean=[]\n",
    "for sub in score:\n",
    "    sum=0\n",
    "    mean = 0\n",
    "    for item in sub:\n",
    "        sum +=  int(item)\n",
    "    mean = sum/4\n",
    "    totalmean.append(mean)\n",
    "    print(\"총점\", sum, \",\", \"평균\", mean)\n",
    "totalsum = totalmean[0]+totalmean[1]+totalmean[2]\n",
    "tmean = totalsum/3\n",
    "print(\"전체평균\", tmean)"
   ]
  },
  {
   "cell_type": "code",
   "execution_count": 6,
   "metadata": {},
   "outputs": [
    {
     "name": "stdout",
     "output_type": "stream",
     "text": [
      "{'b': 4, 'y': 5, 't': 8, 'h': 8, 'e': 22, 'r': 12, 'i': 9, 'v': 2, 's': 10, 'o': 10, 'f': 2, 'a': 12, 'l': 5, 'n': 13, 'w': 13, 'd': 6, 'p': 2, 'm': 3, 'z': 1, 'c': 3, 'k': 1, 'u': 3, 'q': 1, 'g': 4}\n"
     ]
    }
   ],
   "source": [
    "## 문제1 ##\n",
    "song = \"\"\"by the rivers of babylon, there we sat down\n",
    "yeah we wept, when we remember zion.\n",
    "when we wicked carried us away in captivity\n",
    "requred form us a song\n",
    "now how shall we sing the lord's song in a strange land\"\"\"\n",
    "alphabet=dict()\n",
    "for c in song:\n",
    "    if c.isalpha() == False:\n",
    "        continue\n",
    "    c=c.lower()\n",
    "    if c not in alphabet:\n",
    "        alphabet[c]=1\n",
    "    else:\n",
    "        alphabet[c] += 1\n",
    "print(alphabet)"
   ]
  },
  {
   "cell_type": "code",
   "execution_count": 7,
   "metadata": {},
   "outputs": [
    {
     "name": "stdout",
     "output_type": "stream",
     "text": [
      "['떡볶이', '짜장면', '라면', '피자', '맥주', '치킨', '삼겹살']중 좋아하는 것은?1\n"
     ]
    },
    {
     "ename": "KeyError",
     "evalue": "'1'",
     "output_type": "error",
     "traceback": [
      "\u001b[1;31m---------------------------------------------------------------------------\u001b[0m",
      "\u001b[1;31mKeyError\u001b[0m                                  Traceback (most recent call last)",
      "\u001b[1;32m<ipython-input-7-06deecfbc09e>\u001b[0m in \u001b[0;36m<module>\u001b[1;34m\u001b[0m\n\u001b[0;32m     11\u001b[0m \u001b[1;32mwhile\u001b[0m \u001b[1;32mTrue\u001b[0m\u001b[1;33m:\u001b[0m\u001b[1;33m\u001b[0m\u001b[1;33m\u001b[0m\u001b[0m\n\u001b[0;32m     12\u001b[0m     \u001b[0mfood\u001b[0m \u001b[1;33m=\u001b[0m \u001b[0minput\u001b[0m\u001b[1;33m(\u001b[0m\u001b[1;34m\"%s중 좋아하는 것은?\"\u001b[0m\u001b[1;33m%\u001b[0m\u001b[0mkey\u001b[0m\u001b[1;33m)\u001b[0m\u001b[1;33m\u001b[0m\u001b[1;33m\u001b[0m\u001b[0m\n\u001b[1;32m---> 13\u001b[1;33m     \u001b[0mprint\u001b[0m\u001b[1;33m(\u001b[0m\u001b[1;34m\"<%s> 궁합 음식은 <%s> 입니다.\"\u001b[0m\u001b[1;33m%\u001b[0m\u001b[1;33m(\u001b[0m\u001b[0mfood\u001b[0m\u001b[1;33m,\u001b[0m\u001b[0mfoods\u001b[0m\u001b[1;33m[\u001b[0m\u001b[0mfood\u001b[0m\u001b[1;33m]\u001b[0m\u001b[1;33m)\u001b[0m\u001b[1;33m)\u001b[0m\u001b[1;33m\u001b[0m\u001b[1;33m\u001b[0m\u001b[0m\n\u001b[0m",
      "\u001b[1;31mKeyError\u001b[0m: '1'"
     ]
    }
   ],
   "source": [
    "## 음식 궁합 ##\n",
    "foods = {\"떡볶이\":\"오뎅\",\n",
    "         \"짜장면\":\"단무지\",\n",
    "         \"라면\":\"김치\",\n",
    "         \"피자\":\"피클\",\n",
    "         \"맥주\":\"땅콩\",\n",
    "         \"치킨\":\"치킨무\",\n",
    "         \"삼겹살\":\"상추\"}\n",
    "key = list(foods.keys())\n",
    "\n",
    "while True:\n",
    "    food = input(\"%s중 좋아하는 것은?\"%key)\n",
    "    print(\"<%s> 궁합 음식은 <%s> 입니다.\"%(food,foods[food]))"
   ]
  },
  {
   "cell_type": "code",
   "execution_count": 8,
   "metadata": {},
   "outputs": [
    {
     "name": "stdout",
     "output_type": "stream",
     "text": [
      "{'b': 4, 'y': 5, 't': 9, 'h': 9, 'e': 22, 'r': 12, 'i': 10, 'v': 2, 'o': 10, 'f': 2, 'a': 12, 'l': 5, 'n': 13, 'w': 12, 's': 9, 'd': 6, 'p': 2, 'm': 3, 'z': 1, 'c': 3, 'k': 1, 'u': 3, 'q': 1, 'g': 4}\n"
     ]
    }
   ],
   "source": [
    "### 9번 ###\n",
    "song = \"\"\" by the river of babylon, there we sat down\n",
    "yeah we wept, when we remember zion\n",
    "when the wicked carried us away in captivity\n",
    "required from us a song\n",
    "now how shall we sing the lord's song in a strange land\"\"\"\n",
    "\n",
    "alphabet = dict()\n",
    "\n",
    "for c in song:\n",
    "    if c.isalpha() == False:\n",
    "        continue\n",
    "    c = c.lower()\n",
    "    if c not in alphabet:\n",
    "        alphabet[c] = 1\n",
    "    else:\n",
    "        alphabet[c] += 1\n",
    "\n",
    "print(alphabet)"
   ]
  },
  {
   "cell_type": "code",
   "execution_count": 9,
   "metadata": {},
   "outputs": [
    {
     "name": "stdout",
     "output_type": "stream",
     "text": [
      "숫자를 입력하세요(끝낼 때 0) :2\n",
      "입력한 숫자보다 더 큽니다\n",
      "숫자를 입력하세요(끝낼 때 0) :0\n"
     ]
    }
   ],
   "source": [
    "### 10번 ###\n",
    "from random import randint\n",
    "secret = randint(1, 100)\n",
    " \n",
    "while True:\n",
    "    num = int(input(\"숫자를 입력하세요(끝낼 때 0) :\"))\n",
    "    if num == 0:\n",
    "        break\n",
    "    if (secret == num):\n",
    "        print(\"맞췄습니다\")\n",
    "        break\n",
    "    elif (secret > num):\n",
    "        print(\"입력한 숫자보다 더 큽니다\")\n",
    "    else:\n",
    "        print(\"입력한 숫자보다 더 작습니다\")"
   ]
  },
  {
   "cell_type": "code",
   "execution_count": 10,
   "metadata": {
    "scrolled": true
   },
   "outputs": [
    {
     "name": "stdout",
     "output_type": "stream",
     "text": [
      "2 단\n",
      "2 * 2 = 4\n",
      "2 * 3 = 6\n",
      "2 * 4 = 8\n",
      "2 * 5 = 10\n",
      "2 * 6 = 12\n",
      "2 * 7 = 14\n",
      "2 * 8 = 16\n",
      "2 * 9 = 18\n",
      "\n",
      "3 단\n",
      "3 * 2 = 6\n",
      "3 * 3 = 9\n",
      "3 * 4 = 12\n",
      "3 * 5 = 15\n",
      "3 * 6 = 18\n",
      "3 * 7 = 21\n",
      "3 * 8 = 24\n",
      "3 * 9 = 27\n",
      "\n",
      "4 단\n",
      "4 * 2 = 8\n",
      "4 * 3 = 12\n",
      "4 * 4 = 16\n",
      "4 * 5 = 20\n",
      "4 * 6 = 24\n",
      "4 * 7 = 28\n",
      "4 * 8 = 32\n",
      "4 * 9 = 36\n",
      "\n",
      "5 단\n",
      "5 * 2 = 10\n",
      "5 * 3 = 15\n",
      "5 * 4 = 20\n",
      "5 * 5 = 25\n",
      "5 * 6 = 30\n",
      "5 * 7 = 35\n",
      "5 * 8 = 40\n",
      "5 * 9 = 45\n",
      "\n",
      "6 단\n",
      "6 * 2 = 12\n",
      "6 * 3 = 18\n",
      "6 * 4 = 24\n",
      "6 * 5 = 30\n",
      "6 * 6 = 36\n",
      "6 * 7 = 42\n",
      "6 * 8 = 48\n",
      "6 * 9 = 54\n",
      "\n",
      "7 단\n",
      "7 * 2 = 14\n",
      "7 * 3 = 21\n",
      "7 * 4 = 28\n",
      "7 * 5 = 35\n",
      "7 * 6 = 42\n",
      "7 * 7 = 49\n",
      "7 * 8 = 56\n",
      "7 * 9 = 63\n",
      "\n",
      "8 단\n",
      "8 * 2 = 16\n",
      "8 * 3 = 24\n",
      "8 * 4 = 32\n",
      "8 * 5 = 40\n",
      "8 * 6 = 48\n",
      "8 * 7 = 56\n",
      "8 * 8 = 64\n",
      "8 * 9 = 72\n",
      "\n",
      "9 단\n",
      "9 * 2 = 18\n",
      "9 * 3 = 27\n",
      "9 * 4 = 36\n",
      "9 * 5 = 45\n",
      "9 * 6 = 54\n",
      "9 * 7 = 63\n",
      "9 * 8 = 72\n",
      "9 * 9 = 81\n",
      "\n"
     ]
    }
   ],
   "source": [
    "import time\n",
    "for dan in range(2,10):\n",
    "    print(dan,\"단\")\n",
    "    for hang in range(2,10):\n",
    "        print(dan,\"*\",hang,\"=\",dan*hang)\n",
    "        #time.sleep(0.2)\n",
    "    print()\n",
    "    #time.sleep(1)"
   ]
  },
  {
   "cell_type": "code",
   "execution_count": 10,
   "metadata": {},
   "outputs": [
    {
     "name": "stdout",
     "output_type": "stream",
     "text": [
      "6 + 9 = ?2\n",
      "틀렸습니다.\n"
     ]
    }
   ],
   "source": [
    "import random\n",
    "a = random.randint(1,9)\n",
    "b=random.randint(1,9)\n",
    "question = \"%d + %d = ?\" %(a,b)\n",
    "c = int(input(question))\n",
    "if c == a+b:\n",
    "    print(\"정답입니다.\")\n",
    "else:\n",
    "    print(\"틀렸습니다.\")"
   ]
  },
  {
   "cell_type": "code",
   "execution_count": 11,
   "metadata": {},
   "outputs": [
    {
     "name": "stdout",
     "output_type": "stream",
     "text": [
      "문자열을 입력하세요:dkfnsd\n",
      "내용을 거꾸로 출력 --> dsnfkd\n"
     ]
    }
   ],
   "source": [
    "inStr, outStr=\"\",\"\"\n",
    "count,i=0,0\n",
    "inStr=input(\"문자열을 입력하세요:\")\n",
    "count=len(inStr)\n",
    "for i in range(0,count):\n",
    "    outStr += inStr[count - (i+1)]\n",
    "print(\"내용을 거꾸로 출력 --> %s\" % outStr)"
   ]
  },
  {
   "cell_type": "code",
   "execution_count": 12,
   "metadata": {},
   "outputs": [
    {
     "name": "stdout",
     "output_type": "stream",
     "text": [
      "문자열 입력 ==>fdakl\n",
      "출력 문자열 ==>(fdakl)"
     ]
    }
   ],
   "source": [
    "ss=input(\"문자열 입력 ==>\")\n",
    "print(\"출력 문자열 ==>\",end='')\n",
    "if ss.startswith('(') == False:\n",
    "    print('(', end='')\n",
    "print(ss,end='')\n",
    "if ss.endswith(')') == False:\n",
    "    print(')', end='')"
   ]
  },
  {
   "cell_type": "code",
   "execution_count": 17,
   "metadata": {},
   "outputs": [
    {
     "name": "stdout",
     "output_type": "stream",
     "text": [
      "문자열을 입력하세요:heLLo\n",
      "대소문자 변환 결과 ==> HEllO\n"
     ]
    }
   ],
   "source": [
    "#대소문자 변환\n",
    "inStr = input(\"문자열을 입력하세요:\")\n",
    "count = len(inStr)\n",
    "outStr=\"\"\n",
    "for i in range(0,count):\n",
    "    ch=inStr[i]\n",
    "    if (ord(ch) >= ord(\"A\") and ord(ch) <= ord(\"Z\")):\n",
    "        newCh = ch.lower()\n",
    "    elif (ord(ch) >= ord(\"a\") and ord(ch) <= ord(\"z\")):\n",
    "        newCh = ch.upper()\n",
    "    else:\n",
    "        newCh = ch\n",
    "    outStr += newCh\n",
    "print(\"대소문자 변환 결과 ==> %s\" % outStr)"
   ]
  },
  {
   "cell_type": "code",
   "execution_count": 18,
   "metadata": {},
   "outputs": [
    {
     "name": "stdout",
     "output_type": "stream",
     "text": [
      "지금은 17시 1분입니다.\n"
     ]
    }
   ],
   "source": [
    "import time\n",
    "def gettime():\n",
    "    now=time.localtime()\n",
    "    return now.tm_hour, now.tm_min\n",
    "\n",
    "result = gettime()\n",
    "print(\"지금은 %d시 %d분입니다.\" % (result[0],result[1]))"
   ]
  },
  {
   "cell_type": "code",
   "execution_count": 20,
   "metadata": {},
   "outputs": [
    {
     "name": "stdout",
     "output_type": "stream",
     "text": [
      " bb[0]은 198, bb[99]는 0 입력됨\n"
     ]
    }
   ],
   "source": [
    "aa=[]\n",
    "bb=[]\n",
    "value=0\n",
    "for i in range(0,100):\n",
    "    aa.append(value)\n",
    "    value+=2\n",
    "for i in range(0,100):\n",
    "    bb.append(aa[99-i])\n",
    "print(\" bb[0]은 %d, bb[99]는 %d 입력됨\" % (bb[0],bb[99]))"
   ]
  },
  {
   "cell_type": "code",
   "execution_count": 21,
   "metadata": {},
   "outputs": [
    {
     "name": "stdout",
     "output_type": "stream",
     "text": [
      "1번 학생의 성적 : 88\n",
      "2번 학생의 성적 : 95\n",
      "3번 학생의 성적 : 70\n",
      "4번 학생의 성적 : 100\n",
      "5번 학생의 성적 : 99\n"
     ]
    }
   ],
   "source": [
    "#enumerate\n",
    "score = [88,95,70,100,99]\n",
    "no=1\n",
    "for no, s in enumerate(score,1):\n",
    "    print(str(no)+\"번 학생의 성적 :\",s)"
   ]
  },
  {
   "cell_type": "code",
   "execution_count": 22,
   "metadata": {},
   "outputs": [
    {
     "name": "stdout",
     "output_type": "stream",
     "text": [
      "월요일 메뉴: 갈비탕\n",
      "화요일 메뉴: 순댓국\n",
      "수요일 메뉴: 칼국수\n",
      "목요일 메뉴: 삼겹살\n"
     ]
    }
   ],
   "source": [
    "#zip\n",
    "yoil = [\"월\",\"화\",\"수\",\"목\",\"금\",\"토\",\"일\"]\n",
    "food = [\"갈비탕\",\"순댓국\",\"칼국수\",\"삼겹살\"]\n",
    "menu = zip(yoil,food)\n",
    "for y, f in menu:\n",
    "    print(\"%s요일 메뉴: %s\" % (y,f))"
   ]
  },
  {
   "cell_type": "code",
   "execution_count": 23,
   "metadata": {},
   "outputs": [
    {
     "name": "stdout",
     "output_type": "stream",
     "text": [
      "45\n",
      "53\n"
     ]
    }
   ],
   "source": [
    "#filter\n",
    "def flunk(s):\n",
    "    return s<60\n",
    "score = [45,89,72,53,94]\n",
    "for s in filter(flunk,score):\n",
    "    print(s)"
   ]
  },
  {
   "cell_type": "code",
   "execution_count": 24,
   "metadata": {},
   "outputs": [
    {
     "name": "stdout",
     "output_type": "stream",
     "text": [
      "22.5, 44.5, 36.0, 26.5, 47.0, "
     ]
    }
   ],
   "source": [
    "#map\n",
    "def half(s):\n",
    "    return s/2\n",
    "\n",
    "score = [45,89,72,53,94]\n",
    "for s in map(half,score): #함수의 수식 결과를 보여줌\n",
    "    print(s, end=\", \")"
   ]
  },
  {
   "cell_type": "code",
   "execution_count": 25,
   "metadata": {},
   "outputs": [
    {
     "name": "stdout",
     "output_type": "stream",
     "text": [
      "45\n",
      "53\n"
     ]
    }
   ],
   "source": [
    "score = [45,89,72,53,94]\n",
    "for s in filter(lambda x:x<60, score):\n",
    "    print(s)"
   ]
  },
  {
   "cell_type": "code",
   "execution_count": 26,
   "metadata": {},
   "outputs": [
    {
     "name": "stdout",
     "output_type": "stream",
     "text": [
      "Mon Dec 14 17:34:12 2020\n",
      "time.struct_time(tm_year=2020, tm_mon=12, tm_mday=14, tm_hour=17, tm_min=34, tm_sec=12, tm_wday=0, tm_yday=349, tm_isdst=0)\n"
     ]
    }
   ],
   "source": [
    "import time\n",
    "t  = time.time()\n",
    "print(time.ctime(t)) #ctime: 일상에서 보는 시간 형식으로 변환\n",
    "\n",
    "print(time.localtime(t)) #현재 시스템의 시간(날짜)"
   ]
  },
  {
   "cell_type": "code",
   "execution_count": 27,
   "metadata": {},
   "outputs": [
    {
     "name": "stdout",
     "output_type": "stream",
     "text": [
      "2020년12월14일\n",
      "17:34:17\n"
     ]
    }
   ],
   "source": [
    "import time\n",
    "now  = time.localtime()\n",
    "print(\"%d년%d월%d일\" % (now.tm_year, now.tm_mon, now.tm_mday))\n",
    "print(\"%d:%d:%d\" % (now.tm_hour, now.tm_min, now.tm_sec))"
   ]
  },
  {
   "cell_type": "code",
   "execution_count": 28,
   "metadata": {},
   "outputs": [
    {
     "name": "stdout",
     "output_type": "stream",
     "text": [
      "2020년12월14일\n",
      "17:34:35\n"
     ]
    }
   ],
   "source": [
    "import datetime\n",
    "now = datetime.datetime.now()\n",
    "print(\"%d년%d월%d일\" % (now.year,now.month,now.day))\n",
    "print(\"%d:%d:%d\" % (now.hour, now.minute, now.second))"
   ]
  },
  {
   "cell_type": "code",
   "execution_count": 29,
   "metadata": {},
   "outputs": [
    {
     "name": "stdout",
     "output_type": "stream",
     "text": [
      "광복절은 토요일이다.\n"
     ]
    }
   ],
   "source": [
    "import calendar\n",
    "yoil = ['월','화','수','목','금','토','일']\n",
    "day = calendar.weekday(2020,8,15) #요일 값을 숫자로 반환\n",
    "print(\"광복절은\", yoil[day]+\"요일이다.\")"
   ]
  },
  {
   "cell_type": "code",
   "execution_count": 31,
   "metadata": {},
   "outputs": [
    {
     "name": "stdout",
     "output_type": "stream",
     "text": [
      "승용차의 현재 속도는 100 km 이며 좌석수는 5 개 입니다.\n",
      "트럭의 현재 속도는 80 km 이며 용량은 50 입니다.\n"
     ]
    }
   ],
   "source": [
    "# 클래스 선언\n",
    "class Car:\n",
    "    speed=0  #인스턴스 변수\n",
    "    def upSpeed(self, value):\n",
    "        self.speed+=value\n",
    "    def downSpeed(self, value):\n",
    "        self.speed-=value\n",
    "\n",
    "class Sedan(Car):\n",
    "    seatNum = 0\n",
    "    def getSeatNum(self):\n",
    "        return self.seatNum\n",
    "class Truck(Car):\n",
    "    capacity = 0\n",
    "    def getCapacity(self):\n",
    "        return self.capacity\n",
    "#변수 선언\n",
    "sedan1, truck1 = None, None\n",
    "sedan1 = Sedan()\n",
    "truck1 = Truck()\n",
    "\n",
    "sedan1.upSpeed(100)\n",
    "truck1.upSpeed(80)\n",
    "\n",
    "sedan1.getSeatNum=5\n",
    "truck1.getCapacity=50\n",
    "\n",
    "print(\"승용차의 현재 속도는 %d km 이며 좌석수는 %d 개 입니다.\" % (sedan1.speed,sedan1.getSeatNum))\n",
    "print(\"트럭의 현재 속도는 %d km 이며 용량은 %d 입니다.\" % (truck1.speed,truck1.getCapacity))"
   ]
  },
  {
   "cell_type": "code",
   "execution_count": 33,
   "metadata": {},
   "outputs": [
    {
     "name": "stdout",
     "output_type": "stream",
     "text": [
      "트럭--->현재 속도(슈퍼 클래스) : 200\n",
      "승용차--->현재 속도(서브 클라스): 150:\n"
     ]
    }
   ],
   "source": [
    "# 클래스 선언\n",
    "class Car:\n",
    "    speed=0  #인스턴스 변수\n",
    "    def upSpeed(self, value):\n",
    "        self.speed+=value\n",
    "        print(\"현재 속도(슈퍼 클래스) : %d\" % self.speed)\n",
    "\n",
    "class Sedan(Car):\n",
    "    seatNum = 0\n",
    "    def upSpeed(self,value):\n",
    "        self.speed+=value\n",
    "        if self.speed >150:\n",
    "            self.speed = 150\n",
    "        print(\"현재 속도(서브 클라스): %d:\" % self.speed)\n",
    "class Truck(Car):\n",
    "    pass\n",
    "\n",
    "sedan1, truck1 = None,None\n",
    "\n",
    "truck1 = Truck()\n",
    "sedan1 = Sedan()\n",
    "print(\"트럭--->\", end=\"\")\n",
    "truck1.upSpeed(200)\n",
    "print(\"승용차--->\", end=\"\")\n",
    "sedan1.upSpeed(200)"
   ]
  },
  {
   "cell_type": "code",
   "execution_count": null,
   "metadata": {},
   "outputs": [],
   "source": []
  },
  {
   "cell_type": "code",
   "execution_count": null,
   "metadata": {},
   "outputs": [],
   "source": []
  },
  {
   "cell_type": "code",
   "execution_count": null,
   "metadata": {},
   "outputs": [],
   "source": []
  },
  {
   "cell_type": "code",
   "execution_count": null,
   "metadata": {},
   "outputs": [],
   "source": [
    "#클래스 공부"
   ]
  },
  {
   "cell_type": "code",
   "execution_count": null,
   "metadata": {},
   "outputs": [],
   "source": []
  },
  {
   "cell_type": "code",
   "execution_count": null,
   "metadata": {},
   "outputs": [],
   "source": []
  },
  {
   "cell_type": "code",
   "execution_count": null,
   "metadata": {},
   "outputs": [],
   "source": []
  },
  {
   "cell_type": "code",
   "execution_count": null,
   "metadata": {},
   "outputs": [],
   "source": []
  },
  {
   "cell_type": "code",
   "execution_count": null,
   "metadata": {},
   "outputs": [],
   "source": []
  }
 ],
 "metadata": {
  "kernelspec": {
   "display_name": "Python 3",
   "language": "python",
   "name": "python3"
  },
  "language_info": {
   "codemirror_mode": {
    "name": "ipython",
    "version": 3
   },
   "file_extension": ".py",
   "mimetype": "text/x-python",
   "name": "python",
   "nbconvert_exporter": "python",
   "pygments_lexer": "ipython3",
   "version": "3.7.2"
  }
 },
 "nbformat": 4,
 "nbformat_minor": 2
}
